{
 "cells": [
  {
   "cell_type": "code",
   "execution_count": null,
   "metadata": {},
   "outputs": [],
   "source": [
    "# analysis_notebook.ipynb\n",
    "\n",
    "import pandas as pd\n",
    "import matplotlib.pyplot as plt\n",
    "import seaborn as sns\n",
    "\n",
    "# Load the data\n",
    "data = pd.read_csv('user_data.csv')\n",
    "\n",
    "# Visualization 1: Ages with the highest income\n",
    "plt.figure(figsize=(10, 6))\n",
    "sns.barplot(x='age', y='total_income', data=data, ci=None)\n",
    "plt.title('Ages with the Highest Income')\n",
    "plt.xlabel('Age')\n",
    "plt.ylabel('Total Income')\n",
    "plt.xticks(rotation=45)\n",
    "plt.savefig('ages_highest_income.png')\n",
    "plt.show()\n",
    "\n",
    "# Visualization 2: Gender distribution across spending categories\n",
    "expenses = data.melt(id_vars=['gender'], value_vars=['utilities', 'entertainment', 'school_fees', 'shopping', 'healthcare'],\n",
    "                     var_name='Category', value_name='Amount')\n",
    "\n",
    "plt.figure(figsize=(10, 6))\n",
    "sns.boxplot(x='Category', y='Amount', hue='gender', data=expenses)\n",
    "plt.title('Gender Distribution Across Spending Categories')\n",
    "plt.xlabel('Category')\n",
    "plt.ylabel('Amount')\n",
    "plt.xticks(rotation=45)\n",
    "plt.savefig('gender_spending_distribution.png')\n",
    "plt.show()\n"
   ]
  }
 ],
 "metadata": {
  "kernelspec": {
   "display_name": "Python 3 (ipykernel)",
   "language": "python",
   "name": "python3"
  },
  "language_info": {
   "codemirror_mode": {
    "name": "ipython",
    "version": 3
   },
   "file_extension": ".py",
   "mimetype": "text/x-python",
   "name": "python",
   "nbconvert_exporter": "python",
   "pygments_lexer": "ipython3",
   "version": "3.11.7"
  }
 },
 "nbformat": 4,
 "nbformat_minor": 4
}
